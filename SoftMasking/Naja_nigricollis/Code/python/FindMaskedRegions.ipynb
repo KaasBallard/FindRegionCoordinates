{
 "cells": [
  {
   "cell_type": "markdown",
   "metadata": {},
   "source": [
    "### Import Modules"
   ]
  },
  {
   "cell_type": "code",
   "execution_count": 9,
   "metadata": {},
   "outputs": [],
   "source": [
    "# Import required modules\n",
    "import os\n",
    "import sys\n",
    "import re\n",
    "import argparse\n",
    "from Bio import SeqIO\n",
    "import numpy as np\n",
    "import pandas as pd\n",
    "import polars as pl"
   ]
  },
  {
   "cell_type": "markdown",
   "metadata": {},
   "source": [
    "### Function Definitions"
   ]
  },
  {
   "cell_type": "code",
   "execution_count": null,
   "metadata": {},
   "outputs": [],
   "source": [
    "# Function #1: fasta_to_dataframe\n",
    "def fasta_to_dataframe(fasta):\n",
    "\t\"\"\"\n",
    "\tConverts a FASTA file to a polars DataFrame object. \n",
    "\n",
    "\tArgs:\n",
    "\t\tfasta (str): Path to the FASTA file.\n",
    "\n",
    "\tReturns:\n",
    "\t\tpl.DataFrame: A DataFrame with 'header' and 'sequence' columns.\n",
    "\t\"\"\"\n",
    "\n",
    "\t# Parse the FASTA and extract headers and sequences\n",
    "\trecords = SeqIO.parse(fasta, 'fasta')\n",
    "\t# Initialize empty lists to store headers and sequences\n",
    "\theaders = []\n",
    "\tsequences = []\n",
    "\n",
    "\t# Iterate over the records and append the headers and sequnences to the respective lists\n",
    "\tfor record in records:\n",
    "\t\theaders.append(str(record.id))\n",
    "\t\tsequences.append(str(record.seq))\n",
    "\t\n",
    "\t# Create a polars data frame from the headers and sequences\n",
    "\tdf = pl.DataFrame({'headers': headers, 'sequences': sequences})\n",
    "\n",
    "\treturn df\n",
    "\n",
    "# Function #2: find_subsequence_range\n",
    "def find_subsequence_range(sequence):\n",
    "\t\"\"\"\n",
    "\tFind the start and end positions of a subsequence within a larger sequence.\n",
    "\n",
    "\tArgs:\n",
    "\t\tsequence (str): The sequence to search within.\n",
    "\t\n",
    "\tReturns:\n",
    "\t\tList of tuples: List of start and end positions of the subsequence \n",
    "\t\twhere N's are found. Each tuple is in the form (start, end), where \n",
    "\t\tstart is zero indexed like a BED file.\n",
    "\t\"\"\"\n",
    "\n",
    "\t# Initialize an empty variable to store the current sequence coordinates\n",
    "\tcoordinates = []\n",
    "\t# Initialize a variable to store the start position of the subsequence\n",
    "\tstart = None\n",
    "\n",
    "\t# Iterate over the sequence and find the start and end positions of the subsequence\n",
    "\tfor coor in range(len(sequence)):\n",
    "\t\t# If the current base is an 'N' and the start position is not set, set the start position\n",
    "\t\tif sequence[coor] == 'N' and start is None:\n",
    "\t\t\tstart = coor\n",
    "\t\t# If the current base is not an 'N' and the start position is set, set the end position\n",
    "\t\telif sequence[coor] != 'N' and start is not None:\n",
    "\t\t\tcoordinates.append((start, coor - 1))\n",
    "\t\t\tstart = None\n",
    "\n",
    "\t# If the start position is set at the end of the sequence, set the end position\n",
    "\tif start is not None:\n",
    "\t\tcoordinates.append((start, len(sequence) - 1))\n",
    "\n",
    "\treturn coordinates"
   ]
  },
  {
   "cell_type": "code",
   "execution_count": 27,
   "metadata": {},
   "outputs": [
    {
     "name": "stdout",
     "output_type": "stream",
     "text": [
      "[(9, 13), (42, 51)]\n"
     ]
    }
   ],
   "source": [
    "# Test function #2\n",
    "sequence = 'asdfghjklNNNNNfafafafafafjakfjafkfjkfajkjfNNNNNNNNNNkjfkjafk'\n",
    "coordinates = find_subsequence_range(sequence)\n",
    "print(coordinates)"
   ]
  },
  {
   "cell_type": "markdown",
   "metadata": {},
   "source": [
    "### Read in FASTA"
   ]
  },
  {
   "cell_type": "code",
   "execution_count": 15,
   "metadata": {},
   "outputs": [
    {
     "data": {
      "text/plain": [
       "True"
      ]
     },
     "execution_count": 15,
     "metadata": {},
     "output_type": "execute_result"
    }
   ],
   "source": [
    "# Set the path to the input FASTA file\n",
    "fasta_file = '/home/administrator/ExtraSSD2/Kaas/Projects/SquamateAlignments/Reference_Genomes/Sekar_Genomes/Scaffold_Assemblies/Elapidae/Naja/Naja_nigricollis_najNig1/Assembly/najNig2.ragtag.scaffold_naNa.REHEADER.MT.fasta'\n",
    "os.path.exists(fasta_file)"
   ]
  },
  {
   "cell_type": "markdown",
   "metadata": {},
   "source": [
    "### Convert FASTA file to polars DataFrame"
   ]
  },
  {
   "cell_type": "code",
   "execution_count": 16,
   "metadata": {},
   "outputs": [],
   "source": [
    "# Convert the fasta file to a polars DataFrame\n",
    "df = fasta_to_dataframe(fasta_file)"
   ]
  },
  {
   "cell_type": "code",
   "execution_count": 17,
   "metadata": {},
   "outputs": [
    {
     "data": {
      "text/html": [
       "<div><style>\n",
       ".dataframe > thead > tr,\n",
       ".dataframe > tbody > tr {\n",
       "  text-align: right;\n",
       "  white-space: pre-wrap;\n",
       "}\n",
       "</style>\n",
       "<small>shape: (1_048, 2)</small><table border=\"1\" class=\"dataframe\"><thead><tr><th>headers</th><th>sequences</th></tr><tr><td>str</td><td>str</td></tr></thead><tbody><tr><td>&quot;MT&quot;</td><td>&quot;GTTGTCATAGCTTACCTATCAAGCATAGCA…</td></tr><tr><td>&quot;scaffoldma1&quot;</td><td>&quot;CAGCTGTTCCAACAATCAGCTGTGCCGGNN…</td></tr><tr><td>&quot;scaffoldma2&quot;</td><td>&quot;CTGGGAGGGGAGGCAGGTATTTCCAGTGAT…</td></tr><tr><td>&quot;scaffoldma3&quot;</td><td>&quot;CCCCTCCCTTCCAGCACTGATAATGTTATC…</td></tr><tr><td>&quot;scaffoldma4&quot;</td><td>&quot;AGACACCAGTCCTCTATTTTAATTACAAAT…</td></tr><tr><td>&hellip;</td><td>&hellip;</td></tr><tr><td>&quot;scaffoldun1024&quot;</td><td>&quot;GGTTTTCAGGCTTAAGGTGGGATTGGAACT…</td></tr><tr><td>&quot;scaffoldun1025&quot;</td><td>&quot;CCGAACCTTCCTTAGGACTGAAGCTTCTAT…</td></tr><tr><td>&quot;scaffoldun1026&quot;</td><td>&quot;ATTGTAGCAGATAATTTCATGTACTATGCT…</td></tr><tr><td>&quot;scaffoldun1027&quot;</td><td>&quot;ATGAACTACATACCAAAAAATAGAGGGGCT…</td></tr><tr><td>&quot;scaffoldun1028&quot;</td><td>&quot;ACCTCCTGTAAATTGCAACACGATGACGCT…</td></tr></tbody></table></div>"
      ],
      "text/plain": [
       "shape: (1_048, 2)\n",
       "┌────────────────┬─────────────────────────────────┐\n",
       "│ headers        ┆ sequences                       │\n",
       "│ ---            ┆ ---                             │\n",
       "│ str            ┆ str                             │\n",
       "╞════════════════╪═════════════════════════════════╡\n",
       "│ MT             ┆ GTTGTCATAGCTTACCTATCAAGCATAGCA… │\n",
       "│ scaffoldma1    ┆ CAGCTGTTCCAACAATCAGCTGTGCCGGNN… │\n",
       "│ scaffoldma2    ┆ CTGGGAGGGGAGGCAGGTATTTCCAGTGAT… │\n",
       "│ scaffoldma3    ┆ CCCCTCCCTTCCAGCACTGATAATGTTATC… │\n",
       "│ scaffoldma4    ┆ AGACACCAGTCCTCTATTTTAATTACAAAT… │\n",
       "│ …              ┆ …                               │\n",
       "│ scaffoldun1024 ┆ GGTTTTCAGGCTTAAGGTGGGATTGGAACT… │\n",
       "│ scaffoldun1025 ┆ CCGAACCTTCCTTAGGACTGAAGCTTCTAT… │\n",
       "│ scaffoldun1026 ┆ ATTGTAGCAGATAATTTCATGTACTATGCT… │\n",
       "│ scaffoldun1027 ┆ ATGAACTACATACCAAAAAATAGAGGGGCT… │\n",
       "│ scaffoldun1028 ┆ ACCTCCTGTAAATTGCAACACGATGACGCT… │\n",
       "└────────────────┴─────────────────────────────────┘"
      ]
     },
     "execution_count": 17,
     "metadata": {},
     "output_type": "execute_result"
    }
   ],
   "source": [
    "df"
   ]
  },
  {
   "cell_type": "markdown",
   "metadata": {},
   "source": [
    "### Alter the data frame"
   ]
  },
  {
   "cell_type": "code",
   "execution_count": null,
   "metadata": {},
   "outputs": [
    {
     "name": "stderr",
     "output_type": "stream",
     "text": [
      "/tmp/ipykernel_1456097/3772271412.py:5: MapWithoutReturnDtypeWarning: Calling `map_elements` without specifying `return_dtype` can lead to unpredictable results. Specify `return_dtype` to silence this warning.\n",
      "  .with_columns(\n"
     ]
    }
   ],
   "source": [
    "df2 = (\n",
    "\tdf\n",
    "\t# Filter the DataFrame to only the one chrom to reduce complexity\n",
    "\t.filter(pl.col('headers') == \"scaffoldma1\")\n",
    "\t.with_columns(\n",
    "\t\tpl.col('sequences').map_elements(lambda x: find_subsequence_range(x)).alias('coordinates')\n",
    "\t)\n",
    "\t# Drop the sequences column, as it is no longer needed\n",
    "\t.drop(['sequences'])\n",
    "\t# Explode the coordinates column to create a new row for each coordinate\n",
    "\t.explode('coordinates')\n",
    "\t# Create two new columns for the start and end cooordinates\n",
    "\t.with_columns(\n",
    "\t\tpl.col('coordinates').list.get(0).alias('start'),\n",
    "\t\tpl.col('coordinates').list.get(1).alias('end')\n",
    "\t)\n",
    "\t# Drop the coordinates column, as it is no longer needed\n",
    "\t.drop(['coordinates'])\n",
    ")"
   ]
  },
  {
   "cell_type": "code",
   "execution_count": 40,
   "metadata": {},
   "outputs": [
    {
     "data": {
      "text/html": [
       "<div><style>\n",
       ".dataframe > thead > tr,\n",
       ".dataframe > tbody > tr {\n",
       "  text-align: right;\n",
       "  white-space: pre-wrap;\n",
       "}\n",
       "</style>\n",
       "<small>shape: (739, 4)</small><table border=\"1\" class=\"dataframe\"><thead><tr><th>headers</th><th>coordinates</th><th>start</th><th>end</th></tr><tr><td>str</td><td>list[i64]</td><td>i64</td><td>i64</td></tr></thead><tbody><tr><td>&quot;scaffoldma1&quot;</td><td>[28, 127]</td><td>28</td><td>127</td></tr><tr><td>&quot;scaffoldma1&quot;</td><td>[35185, 35284]</td><td>35185</td><td>35284</td></tr><tr><td>&quot;scaffoldma1&quot;</td><td>[127631, 127730]</td><td>127631</td><td>127730</td></tr><tr><td>&quot;scaffoldma1&quot;</td><td>[212420, 212519]</td><td>212420</td><td>212519</td></tr><tr><td>&quot;scaffoldma1&quot;</td><td>[217359, 217458]</td><td>217359</td><td>217458</td></tr><tr><td>&hellip;</td><td>&hellip;</td><td>&hellip;</td><td>&hellip;</td></tr><tr><td>&quot;scaffoldma1&quot;</td><td>[382621344, 382621443]</td><td>382621344</td><td>382621443</td></tr><tr><td>&quot;scaffoldma1&quot;</td><td>[382661103, 382661202]</td><td>382661103</td><td>382661202</td></tr><tr><td>&quot;scaffoldma1&quot;</td><td>[382693490, 382693589]</td><td>382693490</td><td>382693589</td></tr><tr><td>&quot;scaffoldma1&quot;</td><td>[382751093, 382751192]</td><td>382751093</td><td>382751192</td></tr><tr><td>&quot;scaffoldma1&quot;</td><td>[382781818, 382781917]</td><td>382781818</td><td>382781917</td></tr></tbody></table></div>"
      ],
      "text/plain": [
       "shape: (739, 4)\n",
       "┌─────────────┬────────────────────────┬───────────┬───────────┐\n",
       "│ headers     ┆ coordinates            ┆ start     ┆ end       │\n",
       "│ ---         ┆ ---                    ┆ ---       ┆ ---       │\n",
       "│ str         ┆ list[i64]              ┆ i64       ┆ i64       │\n",
       "╞═════════════╪════════════════════════╪═══════════╪═══════════╡\n",
       "│ scaffoldma1 ┆ [28, 127]              ┆ 28        ┆ 127       │\n",
       "│ scaffoldma1 ┆ [35185, 35284]         ┆ 35185     ┆ 35284     │\n",
       "│ scaffoldma1 ┆ [127631, 127730]       ┆ 127631    ┆ 127730    │\n",
       "│ scaffoldma1 ┆ [212420, 212519]       ┆ 212420    ┆ 212519    │\n",
       "│ scaffoldma1 ┆ [217359, 217458]       ┆ 217359    ┆ 217458    │\n",
       "│ …           ┆ …                      ┆ …         ┆ …         │\n",
       "│ scaffoldma1 ┆ [382621344, 382621443] ┆ 382621344 ┆ 382621443 │\n",
       "│ scaffoldma1 ┆ [382661103, 382661202] ┆ 382661103 ┆ 382661202 │\n",
       "│ scaffoldma1 ┆ [382693490, 382693589] ┆ 382693490 ┆ 382693589 │\n",
       "│ scaffoldma1 ┆ [382751093, 382751192] ┆ 382751093 ┆ 382751192 │\n",
       "│ scaffoldma1 ┆ [382781818, 382781917] ┆ 382781818 ┆ 382781917 │\n",
       "└─────────────┴────────────────────────┴───────────┴───────────┘"
      ]
     },
     "execution_count": 40,
     "metadata": {},
     "output_type": "execute_result"
    }
   ],
   "source": [
    "df2"
   ]
  }
 ],
 "metadata": {
  "kernelspec": {
   "display_name": "biopython",
   "language": "python",
   "name": "python3"
  },
  "language_info": {
   "codemirror_mode": {
    "name": "ipython",
    "version": 3
   },
   "file_extension": ".py",
   "mimetype": "text/x-python",
   "name": "python",
   "nbconvert_exporter": "python",
   "pygments_lexer": "ipython3",
   "version": "3.13.2"
  }
 },
 "nbformat": 4,
 "nbformat_minor": 2
}
