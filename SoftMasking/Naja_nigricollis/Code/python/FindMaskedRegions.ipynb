{
 "cells": [
  {
   "cell_type": "markdown",
   "metadata": {},
   "source": [
    "### Import Modules"
   ]
  },
  {
   "cell_type": "code",
   "execution_count": 1,
   "metadata": {},
   "outputs": [],
   "source": [
    "# Import required modules\n",
    "import os\n",
    "import sys\n",
    "import re\n",
    "import argparse\n",
    "from Bio import SeqIO\n",
    "import numpy as np\n",
    "import pandas as pd\n",
    "import polars as pl"
   ]
  },
  {
   "cell_type": "markdown",
   "metadata": {},
   "source": [
    "### Function Definitions"
   ]
  },
  {
   "cell_type": "code",
   "execution_count": 12,
   "metadata": {},
   "outputs": [],
   "source": [
    "# Function #1: fasta_to_dataframe\n",
    "def fasta_to_dataframe(fasta):\n",
    "\t\"\"\"\n",
    "\tConverts a FASTA file to a polars DataFrame object. \n",
    "\n",
    "\tArgs:\n",
    "\t\tfasta (str): Path to the FASTA file.\n",
    "\n",
    "\tReturns:\n",
    "\t\tpl.DataFrame: A DataFrame with 'header' and 'sequence' columns.\n",
    "\t\"\"\"\n",
    "\n",
    "\t# Parse the FASTA and extract headers and sequences\n",
    "\trecords = SeqIO.parse(fasta, 'fasta')\n",
    "\t# Initialize empty lists to store headers and sequences\n",
    "\theaders = []\n",
    "\tsequences = []\n",
    "\n",
    "\t# Iterate over the records and append the headers and sequnences to the respective lists\n",
    "\tfor record in records:\n",
    "\t\theaders.append(str(record.id))\n",
    "\t\tsequences.append(str(record.seq))\n",
    "\t\n",
    "\t# Create a polars data frame from the headers and sequences\n",
    "\tdf = pl.DataFrame({'headers': headers, 'sequences': sequences})\n",
    "\n",
    "\treturn df\n",
    "\n",
    "# Function #2: find_subsequence_range\n",
    "def find_subsequence_range(sequence, pattern = \"N+\"):\n",
    "\t\"\"\"\n",
    "\tFind the start and end positions of a subsequence within a larger sequence.\n",
    "\n",
    "\tArgs:\n",
    "\t\tsequence (str): The sequence to search within.\n",
    "\t\tpattern (str): The subsequence regular expression pattern to search for (Default: \"N+\").\n",
    "\tReturns:\n",
    "\t\tList of tuples: List of start and end positions of the subsequence \n",
    "\t\twhere N's are found. Each tuple is in the form (start, end), where \n",
    "\t\tstart is zero indexed for a BED file.\n",
    "\t\"\"\"\n",
    "\n",
    "\t# Initialize an empty variable to store the current sequence coordinates\n",
    "\tcoordinates = []\n",
    "\n",
    "\t# Find all the matches for the pattern in the sequence\n",
    "\tfor match in re.finditer(pattern, sequence):\n",
    "\t\tstart, end = match.span()\n",
    "\t\t# Adjust the end position to be inclusive like in a BED file format\n",
    "\t\tcoordinates.append((start, end - 1))\n",
    "\n",
    "\t# Return the coordinates\n",
    "\treturn coordinates"
   ]
  },
  {
   "cell_type": "code",
   "execution_count": 13,
   "metadata": {},
   "outputs": [
    {
     "name": "stdout",
     "output_type": "stream",
     "text": [
      "[(160, 404), (471, 493)]\n"
     ]
    }
   ],
   "source": [
    "# Test function #2\n",
    "sequence = 'TTCATCAGTGGAACAAGTTGCCTCCAGAAGTTGTGAATGCTGCAATGCTGGAAGTTTTTAAGAAGAGGTTGGACAACCCTTTGTCTGAAGGGGTGCAGGGTTTCCTGCCTAGGCAGGGGGGTTGGACTAGAAGACCTCCAAGGTCCCTTCCAGCTCTTGTtattctattctattctattctattctattctattctattctattctattctattctattctattctattctattctattctattttctattctattctattttctgttctattttctattcttttctattctattctattttctattctattctattttctgttctattttctattctattctattctattctattctctattctattttctattctattctattttctattctatgctattctaACCGTCACAAATAAAGAACTATTTAGGAGTAGAAATAAATAAACTACAAGAAGAAGAGTATGTTCTaagtaaagaaagaaaaaaagaaaATG'\n",
    "coordinates = find_subsequence_range(sequence, pattern=\"[acgtryswkmbdhvn]+\")\n",
    "print(coordinates)"
   ]
  },
  {
   "cell_type": "markdown",
   "metadata": {},
   "source": [
    "### Read in FASTA"
   ]
  },
  {
   "cell_type": "code",
   "execution_count": 14,
   "metadata": {},
   "outputs": [
    {
     "data": {
      "text/plain": [
       "True"
      ]
     },
     "execution_count": 14,
     "metadata": {},
     "output_type": "execute_result"
    }
   ],
   "source": [
    "# Set the path to the input FASTA file\n",
    "fasta_file = '/home/administrator/ExtraSSD2/Kaas/Projects/SquamateAlignments/Reference_Genomes/Sekar_Genomes/Scaffold_Assemblies/Elapidae/Naja/Naja_nigricollis_najNig1/Assembly/najNig2.ragtag.scaffold_naNa.REHEADER.MT.fasta'\n",
    "os.path.exists(fasta_file)"
   ]
  },
  {
   "cell_type": "markdown",
   "metadata": {},
   "source": [
    "### Convert FASTA file to polars DataFrame"
   ]
  },
  {
   "cell_type": "code",
   "execution_count": 15,
   "metadata": {},
   "outputs": [],
   "source": [
    "# Convert the fasta file to a polars DataFrame\n",
    "df = fasta_to_dataframe(fasta_file)"
   ]
  },
  {
   "cell_type": "code",
   "execution_count": 16,
   "metadata": {},
   "outputs": [
    {
     "data": {
      "text/html": [
       "<div><style>\n",
       ".dataframe > thead > tr,\n",
       ".dataframe > tbody > tr {\n",
       "  text-align: right;\n",
       "  white-space: pre-wrap;\n",
       "}\n",
       "</style>\n",
       "<small>shape: (1_048, 2)</small><table border=\"1\" class=\"dataframe\"><thead><tr><th>headers</th><th>sequences</th></tr><tr><td>str</td><td>str</td></tr></thead><tbody><tr><td>&quot;MT&quot;</td><td>&quot;GTTGTCATAGCTTACCTATCAAGCATAGCA…</td></tr><tr><td>&quot;scaffoldma1&quot;</td><td>&quot;CAGCTGTTCCAACAATCAGCTGTGCCGGNN…</td></tr><tr><td>&quot;scaffoldma2&quot;</td><td>&quot;CTGGGAGGGGAGGCAGGTATTTCCAGTGAT…</td></tr><tr><td>&quot;scaffoldma3&quot;</td><td>&quot;CCCCTCCCTTCCAGCACTGATAATGTTATC…</td></tr><tr><td>&quot;scaffoldma4&quot;</td><td>&quot;AGACACCAGTCCTCTATTTTAATTACAAAT…</td></tr><tr><td>&hellip;</td><td>&hellip;</td></tr><tr><td>&quot;scaffoldun1024&quot;</td><td>&quot;GGTTTTCAGGCTTAAGGTGGGATTGGAACT…</td></tr><tr><td>&quot;scaffoldun1025&quot;</td><td>&quot;CCGAACCTTCCTTAGGACTGAAGCTTCTAT…</td></tr><tr><td>&quot;scaffoldun1026&quot;</td><td>&quot;ATTGTAGCAGATAATTTCATGTACTATGCT…</td></tr><tr><td>&quot;scaffoldun1027&quot;</td><td>&quot;ATGAACTACATACCAAAAAATAGAGGGGCT…</td></tr><tr><td>&quot;scaffoldun1028&quot;</td><td>&quot;ACCTCCTGTAAATTGCAACACGATGACGCT…</td></tr></tbody></table></div>"
      ],
      "text/plain": [
       "shape: (1_048, 2)\n",
       "┌────────────────┬─────────────────────────────────┐\n",
       "│ headers        ┆ sequences                       │\n",
       "│ ---            ┆ ---                             │\n",
       "│ str            ┆ str                             │\n",
       "╞════════════════╪═════════════════════════════════╡\n",
       "│ MT             ┆ GTTGTCATAGCTTACCTATCAAGCATAGCA… │\n",
       "│ scaffoldma1    ┆ CAGCTGTTCCAACAATCAGCTGTGCCGGNN… │\n",
       "│ scaffoldma2    ┆ CTGGGAGGGGAGGCAGGTATTTCCAGTGAT… │\n",
       "│ scaffoldma3    ┆ CCCCTCCCTTCCAGCACTGATAATGTTATC… │\n",
       "│ scaffoldma4    ┆ AGACACCAGTCCTCTATTTTAATTACAAAT… │\n",
       "│ …              ┆ …                               │\n",
       "│ scaffoldun1024 ┆ GGTTTTCAGGCTTAAGGTGGGATTGGAACT… │\n",
       "│ scaffoldun1025 ┆ CCGAACCTTCCTTAGGACTGAAGCTTCTAT… │\n",
       "│ scaffoldun1026 ┆ ATTGTAGCAGATAATTTCATGTACTATGCT… │\n",
       "│ scaffoldun1027 ┆ ATGAACTACATACCAAAAAATAGAGGGGCT… │\n",
       "│ scaffoldun1028 ┆ ACCTCCTGTAAATTGCAACACGATGACGCT… │\n",
       "└────────────────┴─────────────────────────────────┘"
      ]
     },
     "execution_count": 16,
     "metadata": {},
     "output_type": "execute_result"
    }
   ],
   "source": [
    "df"
   ]
  },
  {
   "cell_type": "markdown",
   "metadata": {},
   "source": [
    "### Alter the data frame"
   ]
  },
  {
   "cell_type": "code",
   "execution_count": 50,
   "metadata": {},
   "outputs": [],
   "source": [
    "# Function #3: form_dataframe\n",
    "def form_dataframe(df, pattern = \"N+\"):\n",
    "\t\"\"\"\n",
    "\tForms a polars DataFrame object from a FASTA file and performs necessary operation to get into BED format.\n",
    "\n",
    "\tArgs:\n",
    "\t\tdf (pl.DataFrame): A DataFrame with 'header' and 'sequence' columns created by the fasta_to_dataframe function.\n",
    "\t\tpattern (str): The subsequence regular expression pattern to search for, which is passed to the find_subsequence_range function (Default: \"N+\").\n",
    "\t\n",
    "\tReturns:\n",
    "\t\tpl.DataFrame: A DataFrame with 'header', 'start', and 'end' columns in BED format, with 'start' and 'end'\n",
    "\t\tbeing generated by the find_subsequence_range function.\n",
    "\t\"\"\"\n",
    "\n",
    "\t# Take the input DataFrame and perform the necessary operations to get it into BED format\n",
    "\tdf = (\n",
    "\t\tdf\n",
    "\t\t.with_columns(\n",
    "\t\t\tpl.col('sequences').map_elements(\n",
    "\t\t\t\tlambda x: find_subsequence_range(x, pattern),\n",
    "\t\t\t\treturn_dtype = pl.List(pl.List(pl.Int64))\n",
    "\t\t\t)\n",
    "\t\t\t.alias('coordinates')\n",
    "\t\t)\n",
    "\t\t# Drop the sequences column, as it is no longer needed\n",
    "\t\t.drop(['sequences'])\n",
    "\t\t# Explode the coordinates column to create a new row for each coordinate\n",
    "\t\t.explode('coordinates')\n",
    "\t\t# Create two new columns for the start and end cooordinates\n",
    "\t\t.with_columns(\n",
    "\t\t\tpl.col('coordinates').list.get(0).alias('start'),\n",
    "\t\t\tpl.col('coordinates').list.get(1).alias('end')\n",
    "\t\t)\n",
    "\t\t# Drop the coordinates column, as it is no longer needed\n",
    "\t\t.drop(['coordinates'])\n",
    "\t\t# Drop any rows with null values\n",
    "\t\t.drop_nulls()\n",
    "\t\t# Make sure all values are unique\n",
    "\t\t.unique(maintain_order=True)\n",
    "\t)\n",
    "\n",
    "\t# Return the DataFrame\n",
    "\treturn df"
   ]
  },
  {
   "cell_type": "code",
   "execution_count": 51,
   "metadata": {},
   "outputs": [],
   "source": [
    "df_bed = form_dataframe(df)"
   ]
  },
  {
   "cell_type": "code",
   "execution_count": 49,
   "metadata": {},
   "outputs": [
    {
     "data": {
      "text/html": [
       "<div><style>\n",
       ".dataframe > thead > tr,\n",
       ".dataframe > tbody > tr {\n",
       "  text-align: right;\n",
       "  white-space: pre-wrap;\n",
       "}\n",
       "</style>\n",
       "<small>shape: (3_696, 3)</small><table border=\"1\" class=\"dataframe\"><thead><tr><th>headers</th><th>start</th><th>end</th></tr><tr><td>str</td><td>i64</td><td>i64</td></tr></thead><tbody><tr><td>&quot;scaffoldma1&quot;</td><td>28</td><td>127</td></tr><tr><td>&quot;scaffoldma1&quot;</td><td>35185</td><td>35284</td></tr><tr><td>&quot;scaffoldma1&quot;</td><td>127631</td><td>127730</td></tr><tr><td>&quot;scaffoldma1&quot;</td><td>212420</td><td>212519</td></tr><tr><td>&quot;scaffoldma1&quot;</td><td>217359</td><td>217458</td></tr><tr><td>&hellip;</td><td>&hellip;</td><td>&hellip;</td></tr><tr><td>&quot;scaffoldun830&quot;</td><td>4266</td><td>4365</td></tr><tr><td>&quot;scaffoldun842&quot;</td><td>497</td><td>596</td></tr><tr><td>&quot;scaffoldun963&quot;</td><td>1109</td><td>1208</td></tr><tr><td>&quot;scaffoldun985&quot;</td><td>3527</td><td>3626</td></tr><tr><td>&quot;scaffoldun1024&quot;</td><td>869</td><td>968</td></tr></tbody></table></div>"
      ],
      "text/plain": [
       "shape: (3_696, 3)\n",
       "┌────────────────┬────────┬────────┐\n",
       "│ headers        ┆ start  ┆ end    │\n",
       "│ ---            ┆ ---    ┆ ---    │\n",
       "│ str            ┆ i64    ┆ i64    │\n",
       "╞════════════════╪════════╪════════╡\n",
       "│ scaffoldma1    ┆ 28     ┆ 127    │\n",
       "│ scaffoldma1    ┆ 35185  ┆ 35284  │\n",
       "│ scaffoldma1    ┆ 127631 ┆ 127730 │\n",
       "│ scaffoldma1    ┆ 212420 ┆ 212519 │\n",
       "│ scaffoldma1    ┆ 217359 ┆ 217458 │\n",
       "│ …              ┆ …      ┆ …      │\n",
       "│ scaffoldun830  ┆ 4266   ┆ 4365   │\n",
       "│ scaffoldun842  ┆ 497    ┆ 596    │\n",
       "│ scaffoldun963  ┆ 1109   ┆ 1208   │\n",
       "│ scaffoldun985  ┆ 3527   ┆ 3626   │\n",
       "│ scaffoldun1024 ┆ 869    ┆ 968    │\n",
       "└────────────────┴────────┴────────┘"
      ]
     },
     "execution_count": 49,
     "metadata": {},
     "output_type": "execute_result"
    }
   ],
   "source": [
    "df_bed"
   ]
  },
  {
   "cell_type": "markdown",
   "metadata": {},
   "source": [
    "### Write the DataFrame to a BED file"
   ]
  },
  {
   "cell_type": "code",
   "execution_count": 52,
   "metadata": {},
   "outputs": [],
   "source": [
    "# Write the DataFrame to a BED file\n",
    "df_bed.write_csv(\n",
    "\tfile = '/home/administrator/ExtraSSD2/Kaas/Projects/SquamateAlignments/Reference_Genomes/Sekar_Genomes/Scaffold_Assemblies/Elapidae/Naja/Naja_nigricollis_najNig1/Assembly/najNig2.masked_regions.bed',\n",
    "\tinclude_header = False,\n",
    "\tseparator = \"\\t\"\n",
    ")"
   ]
  }
 ],
 "metadata": {
  "kernelspec": {
   "display_name": "biopython",
   "language": "python",
   "name": "python3"
  },
  "language_info": {
   "codemirror_mode": {
    "name": "ipython",
    "version": 3
   },
   "file_extension": ".py",
   "mimetype": "text/x-python",
   "name": "python",
   "nbconvert_exporter": "python",
   "pygments_lexer": "ipython3",
   "version": "3.13.2"
  }
 },
 "nbformat": 4,
 "nbformat_minor": 2
}
